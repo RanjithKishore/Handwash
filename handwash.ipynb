{
  "nbformat": 4,
  "nbformat_minor": 0,
  "metadata": {
    "colab": {
      "name": "Copy of handwash.ipynb",
      "provenance": [],
      "collapsed_sections": [],
      "mount_file_id": "1neb5RJpbTJrEHtB4Tt4U0tFQL0r4X23p",
      "authorship_tag": "ABX9TyNTb6UoiKMKWa6k9SjWOrb4",
      "include_colab_link": true
    },
    "kernelspec": {
      "name": "python3",
      "display_name": "Python 3"
    },
    "accelerator": "GPU"
  },
  "cells": [
    {
      "cell_type": "markdown",
      "metadata": {
        "id": "view-in-github",
        "colab_type": "text"
      },
      "source": [
        "<a href=\"https://colab.research.google.com/github/RanjithKishore/Handwash/blob/master/handwash.ipynb\" target=\"_parent\"><img src=\"https://colab.research.google.com/assets/colab-badge.svg\" alt=\"Open In Colab\"/></a>"
      ]
    },
    {
      "cell_type": "code",
      "metadata": {
        "id": "n8RrKkw3W9LQ",
        "colab_type": "code",
        "colab": {}
      },
      "source": [
        "import os,cv2\n"
      ],
      "execution_count": null,
      "outputs": []
    },
    {
      "cell_type": "code",
      "metadata": {
        "id": "wsootQfyfUd4",
        "colab_type": "code",
        "colab": {}
      },
      "source": [
        "def FrameCapture(pathd,paths,j): \n",
        "      \n",
        "    # Path to video file \n",
        "    \n",
        "    vidObj = cv2.VideoCapture(paths) \n",
        "    \n",
        "    # Used as counter variable \n",
        "    \n",
        "  \n",
        "    # checks whether frames were extracted \n",
        "    success = 1\n",
        "    count=1\n",
        "    while success: \n",
        "        \n",
        "        # vidObj object calls read \n",
        "        # function extract frames \n",
        "        success, image = vidObj.read() \n",
        "        \n",
        "        # Saves the frames with frame-count \n",
        "        if count%232==0:\n",
        "          print('here')\n",
        "          #print(pathd)\n",
        "          path=os.path.join(pathd,'image{}.jpg'.format(count*(j+1)))\n",
        "          #print('here  '+path)  \n",
        "          if success: \n",
        "            cv2.imwrite(path, image) \n",
        "  \n",
        "        count += 1\n",
        "   # print(count)"
      ],
      "execution_count": null,
      "outputs": []
    },
    {
      "cell_type": "code",
      "metadata": {
        "id": "nMp7xNsZgdeh",
        "colab_type": "code",
        "colab": {
          "base_uri": "https://localhost:8080/",
          "height": 34
        },
        "outputId": "42ea4c28-330e-4ab9-aa7d-fb00dfec83ce"
      },
      "source": [
        "f = []\n",
        "f=os.listdir('/content/drive/My Drive/HandWashDataset')\n",
        "print(f)"
      ],
      "execution_count": null,
      "outputs": [
        {
          "output_type": "stream",
          "text": [
            "['Step_4_Left', 'Step_7_Right', 'Step_1', 'Step_6_Right', 'Step_2_Left', 'Step_3', 'Step_4_Right', 'Step_6_Left', 'Step_2_Right', 'Step_5_Right', 'Step_7_Left', 'Step_5_Left', 'vggtransfer.h5']\n"
          ],
          "name": "stdout"
        }
      ]
    },
    {
      "cell_type": "code",
      "metadata": {
        "id": "32-ZdpY1ifEV",
        "colab_type": "code",
        "colab": {
          "base_uri": "https://localhost:8080/",
          "height": 54
        },
        "outputId": "ed655c27-4090-4ab1-99ee-245107390965"
      },
      "source": [
        "g=[]\n",
        "for (dirpath, dirnames, filenames) in os.walk('/content/drive/My Drive/HandWashDataset/Step_7_Left'):\n",
        "    g.extend(filenames)\n",
        "    break\n",
        "print(g)"
      ],
      "execution_count": null,
      "outputs": [
        {
          "output_type": "stream",
          "text": [
            "['HandWash_004_A_11_G_01.mp4', 'HandWash_007_A_11_G_01.mp4', 'HandWash_001_A_11_G_01.mp4', 'HandWash_002_A_11_G_01.mp4', 'HandWash_009_A_11_G_02.mp4', 'HandWash_006_A_11_G_01.mp4', 'HandWash_005_A_11_G_01.mp4', 'HandWash_008_A_11_G_01.mp4', 'HandWash_003_A_11_G_01.mp4', 'HandWash_014_A_11_G_03.mp4', 'HandWash_017_A_11_G_04.mp4', 'HandWash_016_A_11_G_04.mp4', 'HandWash_013_A_11_G_03.mp4', 'HandWash_011_A_11_G_02.mp4', 'HandWash_010_A_11_G_02.mp4', 'HandWash_015_A_11_G_04.mp4', 'HandWash_018_A_11_G_05.mp4', 'HandWash_012_A_11_G_03.mp4', 'HandWash_020_A_11_G_05.mp4', 'HandWash_019_A_11_G_05.mp4', 'HandWash_021_A_11_G_05.mp4', 'HandWash_022_A_11_G_05.mp4', 'HandWash_023_A_11_G_05.mp4', 'HandWash_024_A_11_G_05.mp4', 'HandWash_025_A_11_G_05.mp4']\n"
          ],
          "name": "stdout"
        }
      ]
    },
    {
      "cell_type": "code",
      "metadata": {
        "id": "sPzrOQJ4sHEx",
        "colab_type": "code",
        "colab": {}
      },
      "source": [
        ""
      ],
      "execution_count": null,
      "outputs": []
    },
    {
      "cell_type": "code",
      "metadata": {
        "id": "XgSFNlgIjphl",
        "colab_type": "code",
        "colab": {}
      },
      "source": [
        "for i,folder in enumerate(f):\n",
        "  sdir=os.path.join('/content/drive/My Drive/HandWashDataset',folder)\n",
        "  dest=os.path.join('/content/drive/My Drive/val',folder)\n",
        "  os.makedirs(dest)\n",
        "  g=[]\n",
        "  print(dest)\n",
        "  for (dirpath, dirnames, filenames) in os.walk(sdir):\n",
        "    g.extend(filenames)\n",
        "    break\n",
        " \n",
        "\n",
        "  for j,v in enumerate(g):\n",
        "    sour=os.path.join(sdir,v)\n",
        "    print(sour)\n",
        "    print(j)\n",
        "    FrameCapture(dest,sour,j)\n",
        "\n"
      ],
      "execution_count": null,
      "outputs": []
    },
    {
      "cell_type": "code",
      "metadata": {
        "id": "o7lcm5f2jo2h",
        "colab_type": "code",
        "colab": {
          "base_uri": "https://localhost:8080/",
          "height": 34
        },
        "outputId": "a45a3ec0-dea1-4627-915b-9a493972cf27"
      },
      "source": [
        "tensorflow_version 1.x"
      ],
      "execution_count": 1,
      "outputs": [
        {
          "output_type": "stream",
          "text": [
            "TensorFlow 1.x selected.\n"
          ],
          "name": "stdout"
        }
      ]
    },
    {
      "cell_type": "code",
      "metadata": {
        "id": "7Ev_8HVDjxw_",
        "colab_type": "code",
        "colab": {
          "base_uri": "https://localhost:8080/",
          "height": 34
        },
        "outputId": "e1c97a7c-5ef0-4a2d-d8cb-1bed558a70db"
      },
      "source": [
        "from keras.layers import Input, Lambda, Dense, Flatten\n",
        "from keras.models import Model\n",
        "from keras.applications.vgg16 import VGG16\n",
        "from keras.applications.vgg16 import preprocess_input\n",
        "from keras.preprocessing import image\n",
        "from keras.preprocessing.image import ImageDataGenerator\n",
        "from keras.models import Sequential\n",
        "import numpy as np\n",
        "from glob import glob\n",
        "import matplotlib.pyplot as plt"
      ],
      "execution_count": 2,
      "outputs": [
        {
          "output_type": "stream",
          "text": [
            "Using TensorFlow backend.\n"
          ],
          "name": "stderr"
        }
      ]
    },
    {
      "cell_type": "code",
      "metadata": {
        "id": "OBmqPdRtj_M9",
        "colab_type": "code",
        "colab": {}
      },
      "source": [
        "IMAGE_SIZE = [224, 224]\n",
        "\n",
        "train_path = '/content/drive/My Drive/HW_image_dataset'\n",
        "valid_path = '/content/drive/My Drive/val'"
      ],
      "execution_count": 3,
      "outputs": []
    },
    {
      "cell_type": "code",
      "metadata": {
        "id": "u3nszG5jlXlR",
        "colab_type": "code",
        "colab": {}
      },
      "source": [
        "vgg = VGG16(input_shape=IMAGE_SIZE + [3], weights='imagenet', include_top=False)\n",
        "\n",
        "# don't train existing weights\n",
        "for layer in vgg.layers:\n",
        "  layer.trainable = False"
      ],
      "execution_count": 11,
      "outputs": []
    },
    {
      "cell_type": "code",
      "metadata": {
        "id": "aJqR2XF3ld9P",
        "colab_type": "code",
        "colab": {}
      },
      "source": [
        "folders = glob('/content/drive/My Drive/HW_image_dataset/*')"
      ],
      "execution_count": 12,
      "outputs": []
    },
    {
      "cell_type": "code",
      "metadata": {
        "id": "607NOP2AlnhV",
        "colab_type": "code",
        "colab": {}
      },
      "source": [
        "print(folders)"
      ],
      "execution_count": null,
      "outputs": []
    },
    {
      "cell_type": "code",
      "metadata": {
        "id": "RVpIviLhlq7u",
        "colab_type": "code",
        "colab": {}
      },
      "source": [
        "x=Flatten()(vgg.output)\n",
        "pred=Dense(12,activation='softmax')(x)\n",
        "model = Model(inputs=vgg.input, outputs=pred)\n"
      ],
      "execution_count": 14,
      "outputs": []
    },
    {
      "cell_type": "code",
      "metadata": {
        "id": "4Dx_Mos06DOF",
        "colab_type": "code",
        "colab": {}
      },
      "source": [
        ""
      ],
      "execution_count": null,
      "outputs": []
    },
    {
      "cell_type": "code",
      "metadata": {
        "id": "ZFPtMAbdm2iD",
        "colab_type": "code",
        "colab": {
          "base_uri": "https://localhost:8080/",
          "height": 867
        },
        "outputId": "6b866762-a781-47ef-8d05-5a4d7c0b8576"
      },
      "source": [
        "model.summary()\n",
        "model.compile(\n",
        "  loss='categorical_crossentropy',\n",
        "  optimizer='adam',\n",
        "  metrics=['accuracy']\n",
        ")"
      ],
      "execution_count": 17,
      "outputs": [
        {
          "output_type": "stream",
          "text": [
            "Model: \"model_2\"\n",
            "_________________________________________________________________\n",
            "Layer (type)                 Output Shape              Param #   \n",
            "=================================================================\n",
            "input_2 (InputLayer)         (None, 224, 224, 3)       0         \n",
            "_________________________________________________________________\n",
            "block1_conv1 (Conv2D)        (None, 224, 224, 64)      1792      \n",
            "_________________________________________________________________\n",
            "block1_conv2 (Conv2D)        (None, 224, 224, 64)      36928     \n",
            "_________________________________________________________________\n",
            "block1_pool (MaxPooling2D)   (None, 112, 112, 64)      0         \n",
            "_________________________________________________________________\n",
            "block2_conv1 (Conv2D)        (None, 112, 112, 128)     73856     \n",
            "_________________________________________________________________\n",
            "block2_conv2 (Conv2D)        (None, 112, 112, 128)     147584    \n",
            "_________________________________________________________________\n",
            "block2_pool (MaxPooling2D)   (None, 56, 56, 128)       0         \n",
            "_________________________________________________________________\n",
            "block3_conv1 (Conv2D)        (None, 56, 56, 256)       295168    \n",
            "_________________________________________________________________\n",
            "block3_conv2 (Conv2D)        (None, 56, 56, 256)       590080    \n",
            "_________________________________________________________________\n",
            "block3_conv3 (Conv2D)        (None, 56, 56, 256)       590080    \n",
            "_________________________________________________________________\n",
            "block3_pool (MaxPooling2D)   (None, 28, 28, 256)       0         \n",
            "_________________________________________________________________\n",
            "block4_conv1 (Conv2D)        (None, 28, 28, 512)       1180160   \n",
            "_________________________________________________________________\n",
            "block4_conv2 (Conv2D)        (None, 28, 28, 512)       2359808   \n",
            "_________________________________________________________________\n",
            "block4_conv3 (Conv2D)        (None, 28, 28, 512)       2359808   \n",
            "_________________________________________________________________\n",
            "block4_pool (MaxPooling2D)   (None, 14, 14, 512)       0         \n",
            "_________________________________________________________________\n",
            "block5_conv1 (Conv2D)        (None, 14, 14, 512)       2359808   \n",
            "_________________________________________________________________\n",
            "block5_conv2 (Conv2D)        (None, 14, 14, 512)       2359808   \n",
            "_________________________________________________________________\n",
            "block5_conv3 (Conv2D)        (None, 14, 14, 512)       2359808   \n",
            "_________________________________________________________________\n",
            "block5_pool (MaxPooling2D)   (None, 7, 7, 512)         0         \n",
            "_________________________________________________________________\n",
            "flatten_2 (Flatten)          (None, 25088)             0         \n",
            "_________________________________________________________________\n",
            "dense_2 (Dense)              (None, 12)                301068    \n",
            "=================================================================\n",
            "Total params: 15,015,756\n",
            "Trainable params: 301,068\n",
            "Non-trainable params: 14,714,688\n",
            "_________________________________________________________________\n"
          ],
          "name": "stdout"
        }
      ]
    },
    {
      "cell_type": "code",
      "metadata": {
        "id": "8fW2at2sdnTH",
        "colab_type": "code",
        "colab": {}
      },
      "source": [
        "model.save('/content/drive/My Drive/handwashtransfer.h5')"
      ],
      "execution_count": 10,
      "outputs": []
    },
    {
      "cell_type": "code",
      "metadata": {
        "id": "u-Y-3N_enDSZ",
        "colab_type": "code",
        "colab": {
          "base_uri": "https://localhost:8080/",
          "height": 51
        },
        "outputId": "22ca1e30-db63-4618-b687-d86a9c762816"
      },
      "source": [
        "from keras.preprocessing.image import ImageDataGenerator\n",
        "\n",
        "train_datagen = ImageDataGenerator(rescale = 1./255,\n",
        "                                   shear_range = 0.2,\n",
        "                                   zoom_range = 0.2,\n",
        "                                   horizontal_flip = True)\n",
        "\n",
        "test_datagen = ImageDataGenerator(rescale = 1./255)\n",
        "\n",
        "training_set = train_datagen.flow_from_directory(train_path,\n",
        "                                                 target_size = (224, 224),\n",
        "                                                 batch_size = 32,\n",
        "                                                 class_mode = 'categorical')\n",
        "\n",
        "test_set = test_datagen.flow_from_directory(valid_path,\n",
        "                                            target_size = (224, 224),\n",
        "                                            batch_size = 32,\n",
        "                                            class_mode = 'categorical')\n"
      ],
      "execution_count": 15,
      "outputs": [
        {
          "output_type": "stream",
          "text": [
            "Found 4188 images belonging to 12 classes.\n",
            "Found 310 images belonging to 12 classes.\n"
          ],
          "name": "stdout"
        }
      ]
    },
    {
      "cell_type": "code",
      "metadata": {
        "id": "S1YwfTCinb20",
        "colab_type": "code",
        "colab": {
          "base_uri": "https://localhost:8080/",
          "height": 1000
        },
        "outputId": "3b3abd63-3866-465d-c886-2a488f795a88"
      },
      "source": [
        "r = model.fit_generator(\n",
        "  training_set,\n",
        "  validation_data=test_set,\n",
        "  epochs=25,\n",
        "  steps_per_epoch=len(training_set),\n",
        "  validation_steps=len(test_set)\n",
        ")"
      ],
      "execution_count": null,
      "outputs": [
        {
          "output_type": "stream",
          "text": [
            "WARNING:tensorflow:From /usr/local/lib/python3.6/dist-packages/keras/backend/tensorflow_backend.py:422: The name tf.global_variables is deprecated. Please use tf.compat.v1.global_variables instead.\n",
            "\n",
            "Epoch 1/25\n",
            " 79/131 [=================>............] - ETA: 17:26 - loss: 1.6058 - accuracy: 0.5134"
          ],
          "name": "stdout"
        },
        {
          "output_type": "stream",
          "text": [
            "/usr/local/lib/python3.6/dist-packages/keras/utils/data_utils.py:616: UserWarning: The input 44 could not be retrieved. It could be because a worker has died.\n",
            "  UserWarning)\n"
          ],
          "name": "stderr"
        },
        {
          "output_type": "stream",
          "text": [
            "111/131 [========================>.....] - ETA: 6:50 - loss: 1.3706 - accuracy: 0.5780"
          ],
          "name": "stdout"
        },
        {
          "output_type": "stream",
          "text": [
            "/usr/local/lib/python3.6/dist-packages/keras/utils/data_utils.py:616: UserWarning: The input 127 could not be retrieved. It could be because a worker has died.\n",
            "  UserWarning)\n"
          ],
          "name": "stderr"
        },
        {
          "output_type": "stream",
          "text": [
            "127/131 [============================>.] - ETA: 1:23 - loss: 1.2810 - accuracy: 0.6015"
          ],
          "name": "stdout"
        },
        {
          "output_type": "stream",
          "text": [
            "/usr/local/lib/python3.6/dist-packages/keras/utils/data_utils.py:616: UserWarning: The input 21 could not be retrieved. It could be because a worker has died.\n",
            "  UserWarning)\n"
          ],
          "name": "stderr"
        },
        {
          "output_type": "stream",
          "text": [
            "131/131 [==============================] - 2840s 22s/step - loss: 1.2655 - accuracy: 0.6053 - val_loss: 0.9946 - val_accuracy: 0.7194\n",
            "Epoch 2/25\n",
            "131/131 [==============================] - 147s 1s/step - loss: 0.4875 - accuracy: 0.8391 - val_loss: 0.7401 - val_accuracy: 0.8360\n",
            "Epoch 3/25\n",
            "131/131 [==============================] - 157s 1s/step - loss: 0.3580 - accuracy: 0.8785 - val_loss: 0.4855 - val_accuracy: 0.8577\n",
            "Epoch 4/25\n",
            "131/131 [==============================] - 157s 1s/step - loss: 0.2609 - accuracy: 0.9090 - val_loss: 0.0696 - val_accuracy: 0.8854\n",
            "Epoch 5/25\n",
            "131/131 [==============================] - 158s 1s/step - loss: 0.2559 - accuracy: 0.9169 - val_loss: 0.2582 - val_accuracy: 0.8972\n",
            "Epoch 6/25\n",
            "131/131 [==============================] - 157s 1s/step - loss: 0.2271 - accuracy: 0.9226 - val_loss: 0.5976 - val_accuracy: 0.9269\n",
            "Epoch 7/25\n",
            "131/131 [==============================] - 161s 1s/step - loss: 0.1565 - accuracy: 0.9446 - val_loss: 0.1221 - val_accuracy: 0.9447\n",
            "Epoch 8/25\n",
            "131/131 [==============================] - 160s 1s/step - loss: 0.1253 - accuracy: 0.9608 - val_loss: 0.2964 - val_accuracy: 0.9190\n",
            "Epoch 9/25\n",
            "131/131 [==============================] - 156s 1s/step - loss: 0.1429 - accuracy: 0.9573 - val_loss: 0.2565 - val_accuracy: 0.9506\n",
            "Epoch 10/25\n",
            "131/131 [==============================] - 154s 1s/step - loss: 0.1109 - accuracy: 0.9663 - val_loss: 0.3546 - val_accuracy: 0.9328\n",
            "Epoch 11/25\n",
            "131/131 [==============================] - 156s 1s/step - loss: 0.0921 - accuracy: 0.9728 - val_loss: 0.0630 - val_accuracy: 0.9466\n",
            "Epoch 12/25\n",
            "131/131 [==============================] - 161s 1s/step - loss: 0.1374 - accuracy: 0.9596 - val_loss: 0.3265 - val_accuracy: 0.9506\n",
            "Epoch 13/25\n",
            "131/131 [==============================] - 158s 1s/step - loss: 0.1036 - accuracy: 0.9644 - val_loss: 0.5230 - val_accuracy: 0.9526\n",
            "Epoch 14/25\n",
            "131/131 [==============================] - 158s 1s/step - loss: 0.1446 - accuracy: 0.9522 - val_loss: 0.2029 - val_accuracy: 0.9427\n",
            "Epoch 15/25\n",
            "131/131 [==============================] - 158s 1s/step - loss: 0.0748 - accuracy: 0.9766 - val_loss: 0.0493 - val_accuracy: 0.9684\n",
            "Epoch 16/25\n",
            "131/131 [==============================] - 156s 1s/step - loss: 0.0972 - accuracy: 0.9673 - val_loss: 0.5012 - val_accuracy: 0.9387\n",
            "Epoch 17/25\n",
            "131/131 [==============================] - 159s 1s/step - loss: 0.0958 - accuracy: 0.9663 - val_loss: 0.2369 - val_accuracy: 0.9526\n",
            "Epoch 18/25\n",
            "131/131 [==============================] - 158s 1s/step - loss: 0.0997 - accuracy: 0.9651 - val_loss: 0.0812 - val_accuracy: 0.9348\n",
            "Epoch 19/25\n",
            "131/131 [==============================] - 160s 1s/step - loss: 0.1172 - accuracy: 0.9611 - val_loss: 0.0466 - val_accuracy: 0.9585\n",
            "Epoch 20/25\n",
            "131/131 [==============================] - 155s 1s/step - loss: 0.0824 - accuracy: 0.9716 - val_loss: 0.1677 - val_accuracy: 0.9269\n",
            "Epoch 21/25\n",
            "131/131 [==============================] - 155s 1s/step - loss: 0.1095 - accuracy: 0.9649 - val_loss: 0.0372 - val_accuracy: 0.9625\n",
            "Epoch 22/25\n",
            "131/131 [==============================] - 155s 1s/step - loss: 0.0745 - accuracy: 0.9737 - val_loss: 0.2052 - val_accuracy: 0.9447\n",
            "Epoch 23/25\n",
            "131/131 [==============================] - 155s 1s/step - loss: 0.0664 - accuracy: 0.9754 - val_loss: 0.3442 - val_accuracy: 0.9447\n",
            "Epoch 24/25\n",
            "131/131 [==============================] - 164s 1s/step - loss: 0.0701 - accuracy: 0.9761 - val_loss: 0.1396 - val_accuracy: 0.9387\n",
            "Epoch 25/25\n",
            "131/131 [==============================] - 159s 1s/step - loss: 0.0649 - accuracy: 0.9764 - val_loss: 0.1765 - val_accuracy: 0.9545\n"
          ],
          "name": "stdout"
        }
      ]
    },
    {
      "cell_type": "code",
      "metadata": {
        "id": "aa9RLiO-lAzO",
        "colab_type": "code",
        "colab": {}
      },
      "source": [
        "import tensorflow as tf\n",
        "\n",
        "from keras.models import load_model\n",
        "\n",
        "model.save('vggtransfer.h5')"
      ],
      "execution_count": null,
      "outputs": []
    },
    {
      "cell_type": "code",
      "metadata": {
        "id": "elfXoWh5i24H",
        "colab_type": "code",
        "colab": {}
      },
      "source": [
        "model.load_weights('/content/drive/My Drive/HandWashDataset/vggtransfer.h5')\n"
      ],
      "execution_count": 20,
      "outputs": []
    },
    {
      "cell_type": "code",
      "metadata": {
        "id": "qKtfBeD8Kfj2",
        "colab_type": "code",
        "colab": {}
      },
      "source": [
        "#test set with images from step 1 and 3\n",
        "#os.makedirs('/content/drive/My Drive/test/test_imgs')\n",
        "FrameCapture('/content/drive/My Drive/test','/content/drive/My Drive/HandWashDataset/Step_3/2.mp4',1)"
      ],
      "execution_count": null,
      "outputs": []
    },
    {
      "cell_type": "code",
      "metadata": {
        "id": "FbaxAcLzjIA-",
        "colab_type": "code",
        "colab": {
          "base_uri": "https://localhost:8080/",
          "height": 34
        },
        "outputId": "4c5546db-9735-4eb1-a97f-a6f6666a8dce"
      },
      "source": [
        "test_datagen_f = ImageDataGenerator(rescale = 1./255)\n",
        "test_set_final = test_datagen_f.flow_from_directory('/content/drive/My Drive/test',\n",
        "                                            target_size = (224, 224),\n",
        "                                            batch_size = 32,\n",
        "                                            class_mode = 'categorical')\n"
      ],
      "execution_count": 21,
      "outputs": [
        {
          "output_type": "stream",
          "text": [
            "Found 36 images belonging to 1 classes.\n"
          ],
          "name": "stdout"
        }
      ]
    },
    {
      "cell_type": "code",
      "metadata": {
        "id": "PaWVtuHJnjOj",
        "colab_type": "code",
        "colab": {
          "base_uri": "https://localhost:8080/",
          "height": 530
        },
        "outputId": "6749cf69-a30b-4a0c-ce0a-6e6194140dc8"
      },
      "source": [
        "plt.plot(r.history['loss'], label='train loss')\n",
        "plt.plot(r.history['val_loss'], label='val loss')\n",
        "plt.legend()\n",
        "plt.show()\n",
        "plt.savefig('LossVal_loss')\n",
        "\n",
        "# accuracies\n",
        "plt.plot(r.history['accuracy'], label='train acc')\n",
        "plt.plot(r.history['val_accuracy'], label='val acc')\n",
        "plt.legend()\n",
        "plt.show()\n",
        "plt.savefig('AccVal_acc')\n"
      ],
      "execution_count": null,
      "outputs": [
        {
          "output_type": "display_data",
          "data": {
            "image/png": "[encoded data removed]",
            "text/plain": [
              "<Figure size 432x288 with 1 Axes>"
            ]
          },
          "metadata": {
            "tags": [],
            "needs_background": "light"
          }
        },
        {
          "output_type": "display_data",
          "data": {
            "image/png": "[encoded data removed]",
            "text/plain": [
              "<Figure size 432x288 with 1 Axes>"
            ]
          },
          "metadata": {
            "tags": [],
            "needs_background": "light"
          }
        },
        {
          "output_type": "display_data",
          "data": {
            "text/plain": [
              "<Figure size 432x288 with 0 Axes>"
            ]
          },
          "metadata": {
            "tags": []
          }
        }
      ]
    },
    {
      "cell_type": "code",
      "metadata": {
        "id": "cpi9CcE7eeNA",
        "colab_type": "code",
        "colab": {}
      },
      "source": [
        "result_pr=model.predict_generator(test_set_final)"
      ],
      "execution_count": 22,
      "outputs": []
    },
    {
      "cell_type": "code",
      "metadata": {
        "id": "QXkwvaB0fCwS",
        "colab_type": "code",
        "colab": {
          "base_uri": "https://localhost:8080/",
          "height": 629
        },
        "outputId": "c79329fe-9cb8-43b4-c50f-1a28fdf1c246"
      },
      "source": [
        "for i in range(36):\n",
        "  print(np.argmax(result_pr[i]))\n"
      ],
      "execution_count": 26,
      "outputs": [
        {
          "output_type": "stream",
          "text": [
            "0\n",
            "3\n",
            "0\n",
            "3\n",
            "3\n",
            "3\n",
            "3\n",
            "0\n",
            "0\n",
            "0\n",
            "0\n",
            "3\n",
            "0\n",
            "0\n",
            "3\n",
            "0\n",
            "3\n",
            "3\n",
            "3\n",
            "0\n",
            "0\n",
            "0\n",
            "3\n",
            "0\n",
            "0\n",
            "3\n",
            "3\n",
            "0\n",
            "0\n",
            "3\n",
            "0\n",
            "0\n",
            "0\n",
            "0\n",
            "3\n",
            "0\n"
          ],
          "name": "stdout"
        }
      ]
    },
    {
      "cell_type": "code",
      "metadata": {
        "id": "agCzOJpdgeSD",
        "colab_type": "code",
        "colab": {}
      },
      "source": [
        ""
      ],
      "execution_count": null,
      "outputs": []
    }
  ]
}